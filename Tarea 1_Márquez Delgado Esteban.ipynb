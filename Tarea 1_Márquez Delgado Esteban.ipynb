{
 "cells": [
  {
   "cell_type": "markdown",
   "metadata": {},
   "source": [
    "<p align=\"center\"> <img style=\" margin: 30px 15px 15px 15px;\" src=\"https://pngimage.net/wp-content/uploads/2018/06/logo-iteso-png-5.png\" width=\"350\" height=\"150\" /> \n",
    "    \n",
    "    \n",
    "## <H1 align=\"center\"> <font color='white'> Quantitative Finance </H1>\n",
    "\n",
    "### <H3 align=\"center\"> <font color='white'> NPV & IRR of given data </H1>\n",
    "\n",
    " <H5 align=\"center\"> <em> Professor: Zárate Carbajal José Mario <em>\n",
    "\n",
    " <strong> <H5 align=\"right\"> Student: Márquez Delgado Esteban <strong>\n",
    "\n",
    " *Registry*: if700637\n",
    "\n",
    " Date: August 26, 2022\n",
    "\n",
    " <center> <font color= #555555> <font size = 4> Jun 2021 </a> | <font color= #555555> <font size = 4> Repository: <a href='https://github.com/EstebanMqz/Quantitative-Finance/blob/main/Tarea%201_Márquez%20Delgado%20Esteban.ipynb'>Link</a></font>"
   ]
  },
  {
   "cell_type": "markdown",
   "metadata": {},
   "source": [
    "Note: *Run All* command can be used to execute notebook."
   ]
  },
  {
   "cell_type": "markdown",
   "metadata": {},
   "source": [
    "<H5 align=\"left\"> <font color='blue'> <strong> Libraries </H5><strong>"
   ]
  },
  {
   "cell_type": "code",
   "execution_count": 1,
   "metadata": {},
   "outputs": [],
   "source": [
    "import pandas as pd\n",
    "import numpy as np\n",
    "from datetime import date\n",
    "from pyxirr import xirr"
   ]
  },
  {
   "cell_type": "code",
   "execution_count": 2,
   "metadata": {},
   "outputs": [
    {
     "data": {
      "text/plain": [
       "  Year 1      int64\n",
       "  Year 2      int64\n",
       "  Year 3      int64\n",
       "  Year 4      int64\n",
       "  Year 5      int64\n",
       "dtype: object"
      ]
     },
     "execution_count": 2,
     "metadata": {},
     "output_type": "execute_result"
    }
   ],
   "source": [
    "data = pd.read_csv('Data_OilCompany.csv')\n",
    "data.dtypes"
   ]
  },
  {
   "cell_type": "code",
   "execution_count": 3,
   "metadata": {},
   "outputs": [],
   "source": [
    "Price =5\n",
    "Cost=-.8\n",
    "Fixed=-40000\n",
    "I_inv=-1800000\n",
    "rf=.03\n",
    "data.head()\n",
    "data.columns=data.columns.str.replace('Year', ' ').astype('int') #Col labels to int. (MUST RUN LINE ONCE)"
   ]
  },
  {
   "cell_type": "markdown",
   "metadata": {},
   "source": [
    "<H5 align=\"left\"> <font color='blue'> <strong> Net Present Value </H5><strong>"
   ]
  },
  {
   "cell_type": "code",
   "execution_count": 4,
   "metadata": {},
   "outputs": [
    {
     "data": {
      "text/html": [
       "<div>\n",
       "<style scoped>\n",
       "    .dataframe tbody tr th:only-of-type {\n",
       "        vertical-align: middle;\n",
       "    }\n",
       "\n",
       "    .dataframe tbody tr th {\n",
       "        vertical-align: top;\n",
       "    }\n",
       "\n",
       "    .dataframe thead th {\n",
       "        text-align: right;\n",
       "    }\n",
       "</style>\n",
       "<table border=\"1\" class=\"dataframe\">\n",
       "  <thead>\n",
       "    <tr style=\"text-align: right;\">\n",
       "      <th></th>\n",
       "      <th>0</th>\n",
       "      <th>1</th>\n",
       "      <th>2</th>\n",
       "      <th>3</th>\n",
       "      <th>4</th>\n",
       "      <th>5</th>\n",
       "      <th>NPV</th>\n",
       "    </tr>\n",
       "  </thead>\n",
       "  <tbody>\n",
       "    <tr>\n",
       "      <th>0</th>\n",
       "      <td>-1800000</td>\n",
       "      <td>791892.4</td>\n",
       "      <td>1070666.2</td>\n",
       "      <td>1751830.6</td>\n",
       "      <td>712450.2</td>\n",
       "      <td>314455.2</td>\n",
       "      <td>2841294.7</td>\n",
       "    </tr>\n",
       "    <tr>\n",
       "      <th>1</th>\n",
       "      <td>-1800000</td>\n",
       "      <td>1037037.9</td>\n",
       "      <td>1040855.7</td>\n",
       "      <td>-28180.5</td>\n",
       "      <td>710420.2</td>\n",
       "      <td>-34504.4</td>\n",
       "      <td>925628.9</td>\n",
       "    </tr>\n",
       "    <tr>\n",
       "      <th>2</th>\n",
       "      <td>-1800000</td>\n",
       "      <td>74222.5</td>\n",
       "      <td>1287978.3</td>\n",
       "      <td>279587.7</td>\n",
       "      <td>710618.0</td>\n",
       "      <td>200835.7</td>\n",
       "      <td>753242.2</td>\n",
       "    </tr>\n",
       "    <tr>\n",
       "      <th>3</th>\n",
       "      <td>-1800000</td>\n",
       "      <td>1159188.5</td>\n",
       "      <td>794128.9</td>\n",
       "      <td>1020717.3</td>\n",
       "      <td>710543.3</td>\n",
       "      <td>-34504.4</td>\n",
       "      <td>1850073.8</td>\n",
       "    </tr>\n",
       "    <tr>\n",
       "      <th>4</th>\n",
       "      <td>-1800000</td>\n",
       "      <td>1173533.8</td>\n",
       "      <td>922603.3</td>\n",
       "      <td>1747195.2</td>\n",
       "      <td>713021.2</td>\n",
       "      <td>477365.1</td>\n",
       "      <td>3233718.6</td>\n",
       "    </tr>\n",
       "    <tr>\n",
       "      <th>...</th>\n",
       "      <td>...</td>\n",
       "      <td>...</td>\n",
       "      <td>...</td>\n",
       "      <td>...</td>\n",
       "      <td>...</td>\n",
       "      <td>...</td>\n",
       "      <td>...</td>\n",
       "    </tr>\n",
       "    <tr>\n",
       "      <th>1995</th>\n",
       "      <td>-1800000</td>\n",
       "      <td>929860.4</td>\n",
       "      <td>1033056.7</td>\n",
       "      <td>406526.2</td>\n",
       "      <td>710069.4</td>\n",
       "      <td>186680.8</td>\n",
       "      <td>1466193.5</td>\n",
       "    </tr>\n",
       "    <tr>\n",
       "      <th>1996</th>\n",
       "      <td>-1800000</td>\n",
       "      <td>844098.8</td>\n",
       "      <td>995589.6</td>\n",
       "      <td>294047.3</td>\n",
       "      <td>712692.8</td>\n",
       "      <td>-34504.4</td>\n",
       "      <td>1011924.1</td>\n",
       "    </tr>\n",
       "    <tr>\n",
       "      <th>1997</th>\n",
       "      <td>-1800000</td>\n",
       "      <td>981712.0</td>\n",
       "      <td>836821.8</td>\n",
       "      <td>1812693.9</td>\n",
       "      <td>710043.3</td>\n",
       "      <td>-25182.5</td>\n",
       "      <td>2516088.5</td>\n",
       "    </tr>\n",
       "    <tr>\n",
       "      <th>1998</th>\n",
       "      <td>-1800000</td>\n",
       "      <td>984868.2</td>\n",
       "      <td>944642.5</td>\n",
       "      <td>1425497.9</td>\n",
       "      <td>711162.8</td>\n",
       "      <td>415499.5</td>\n",
       "      <td>2681670.8</td>\n",
       "    </tr>\n",
       "    <tr>\n",
       "      <th>1999</th>\n",
       "      <td>-1800000</td>\n",
       "      <td>854207.4</td>\n",
       "      <td>1317246.5</td>\n",
       "      <td>518597.8</td>\n",
       "      <td>711689.0</td>\n",
       "      <td>-34504.4</td>\n",
       "      <td>1567236.3</td>\n",
       "    </tr>\n",
       "  </tbody>\n",
       "</table>\n",
       "<p>2000 rows × 7 columns</p>\n",
       "</div>"
      ],
      "text/plain": [
       "            0         1         2         3        4        5       NPV\n",
       "0    -1800000  791892.4 1070666.2 1751830.6 712450.2 314455.2 2841294.7\n",
       "1    -1800000 1037037.9 1040855.7  -28180.5 710420.2 -34504.4  925628.9\n",
       "2    -1800000   74222.5 1287978.3  279587.7 710618.0 200835.7  753242.2\n",
       "3    -1800000 1159188.5  794128.9 1020717.3 710543.3 -34504.4 1850073.8\n",
       "4    -1800000 1173533.8  922603.3 1747195.2 713021.2 477365.1 3233718.6\n",
       "...       ...       ...       ...       ...      ...      ...       ...\n",
       "1995 -1800000  929860.4 1033056.7  406526.2 710069.4 186680.8 1466193.5\n",
       "1996 -1800000  844098.8  995589.6  294047.3 712692.8 -34504.4 1011924.1\n",
       "1997 -1800000  981712.0  836821.8 1812693.9 710043.3 -25182.5 2516088.5\n",
       "1998 -1800000  984868.2  944642.5 1425497.9 711162.8 415499.5 2681670.8\n",
       "1999 -1800000  854207.4 1317246.5  518597.8 711689.0 -34504.4 1567236.3\n",
       "\n",
       "[2000 rows x 7 columns]"
      ]
     },
     "execution_count": 4,
     "metadata": {},
     "output_type": "execute_result"
    }
   ],
   "source": [
    "pd.set_option('display.float_format', lambda x: '%.1f' % x)\n",
    "\n",
    "for i in range(len(data.columns)):                                              \n",
    "    data_pv=((data*Price)+(data*Cost)+Fixed)/(1+rf)**data.columns\n",
    "    data_pv.insert(loc=0, column=0, value=I_inv) #Initital investment in t=0\n",
    "    data_pv.insert(loc=len(data_pv.columns), column=len(data_pv.columns), value=data_pv.sum(axis='columns')) #NPV\n",
    "    \n",
    "data_pv=data_pv.set_axis([*data_pv.columns[:-1], 'NPV'], axis=1, inplace=False) #Name NPV col. \n",
    "data_pv \n"
   ]
  },
  {
   "cell_type": "markdown",
   "metadata": {},
   "source": [
    "<H5 align=\"left\"> <font color='blue'> <strong> Interest Rate Return </H5><strong>"
   ]
  },
  {
   "cell_type": "code",
   "execution_count": 5,
   "metadata": {},
   "outputs": [
    {
     "name": "stdout",
     "output_type": "stream",
     "text": [
      "Requirement already satisfied: pyxirr in c:\\programdata\\anaconda3\\lib\\site-packages (0.7.2)\n"
     ]
    }
   ],
   "source": [
    "#Required library\n",
    "!pip install pyxirr"
   ]
  },
  {
   "cell_type": "markdown",
   "metadata": {},
   "source": [
    "Future Values in period k"
   ]
  },
  {
   "cell_type": "code",
   "execution_count": 6,
   "metadata": {},
   "outputs": [
    {
     "data": {
      "text/html": [
       "<div>\n",
       "<style scoped>\n",
       "    .dataframe tbody tr th:only-of-type {\n",
       "        vertical-align: middle;\n",
       "    }\n",
       "\n",
       "    .dataframe tbody tr th {\n",
       "        vertical-align: top;\n",
       "    }\n",
       "\n",
       "    .dataframe thead th {\n",
       "        text-align: right;\n",
       "    }\n",
       "</style>\n",
       "<table border=\"1\" class=\"dataframe\">\n",
       "  <thead>\n",
       "    <tr style=\"text-align: right;\">\n",
       "      <th></th>\n",
       "      <th>0</th>\n",
       "      <th>1</th>\n",
       "      <th>2</th>\n",
       "      <th>3</th>\n",
       "      <th>4</th>\n",
       "      <th>5</th>\n",
       "    </tr>\n",
       "  </thead>\n",
       "  <tbody>\n",
       "    <tr>\n",
       "      <th>0</th>\n",
       "      <td>-1800000</td>\n",
       "      <td>815649.2</td>\n",
       "      <td>1135869.8</td>\n",
       "      <td>1914272.6</td>\n",
       "      <td>801869.0</td>\n",
       "      <td>364539.8</td>\n",
       "    </tr>\n",
       "    <tr>\n",
       "      <th>1</th>\n",
       "      <td>-1800000</td>\n",
       "      <td>1068149.0</td>\n",
       "      <td>1104243.8</td>\n",
       "      <td>-30793.6</td>\n",
       "      <td>799584.2</td>\n",
       "      <td>-40000.0</td>\n",
       "    </tr>\n",
       "    <tr>\n",
       "      <th>2</th>\n",
       "      <td>-1800000</td>\n",
       "      <td>76449.2</td>\n",
       "      <td>1366416.2</td>\n",
       "      <td>305513.0</td>\n",
       "      <td>799806.8</td>\n",
       "      <td>232823.6</td>\n",
       "    </tr>\n",
       "    <tr>\n",
       "      <th>3</th>\n",
       "      <td>-1800000</td>\n",
       "      <td>1193964.2</td>\n",
       "      <td>842491.4</td>\n",
       "      <td>1115365.4</td>\n",
       "      <td>799722.8</td>\n",
       "      <td>-40000.0</td>\n",
       "    </tr>\n",
       "    <tr>\n",
       "      <th>4</th>\n",
       "      <td>-1800000</td>\n",
       "      <td>1208739.8</td>\n",
       "      <td>978789.8</td>\n",
       "      <td>1909207.4</td>\n",
       "      <td>802511.6</td>\n",
       "      <td>553397.0</td>\n",
       "    </tr>\n",
       "    <tr>\n",
       "      <th>...</th>\n",
       "      <td>...</td>\n",
       "      <td>...</td>\n",
       "      <td>...</td>\n",
       "      <td>...</td>\n",
       "      <td>...</td>\n",
       "      <td>...</td>\n",
       "    </tr>\n",
       "    <tr>\n",
       "      <th>1995</th>\n",
       "      <td>-1800000</td>\n",
       "      <td>957756.2</td>\n",
       "      <td>1095969.8</td>\n",
       "      <td>444222.2</td>\n",
       "      <td>799189.4</td>\n",
       "      <td>216414.2</td>\n",
       "    </tr>\n",
       "    <tr>\n",
       "      <th>1996</th>\n",
       "      <td>-1800000</td>\n",
       "      <td>869421.8</td>\n",
       "      <td>1056221.0</td>\n",
       "      <td>321313.4</td>\n",
       "      <td>802142.0</td>\n",
       "      <td>-40000.0</td>\n",
       "    </tr>\n",
       "    <tr>\n",
       "      <th>1997</th>\n",
       "      <td>-1800000</td>\n",
       "      <td>1011163.4</td>\n",
       "      <td>887784.2</td>\n",
       "      <td>1980779.6</td>\n",
       "      <td>799160.0</td>\n",
       "      <td>-29193.4</td>\n",
       "    </tr>\n",
       "    <tr>\n",
       "      <th>1998</th>\n",
       "      <td>-1800000</td>\n",
       "      <td>1014414.2</td>\n",
       "      <td>1002171.2</td>\n",
       "      <td>1557680.0</td>\n",
       "      <td>800420.0</td>\n",
       "      <td>481677.8</td>\n",
       "    </tr>\n",
       "    <tr>\n",
       "      <th>1999</th>\n",
       "      <td>-1800000</td>\n",
       "      <td>879833.6</td>\n",
       "      <td>1397466.8</td>\n",
       "      <td>566685.8</td>\n",
       "      <td>801012.2</td>\n",
       "      <td>-40000.0</td>\n",
       "    </tr>\n",
       "  </tbody>\n",
       "</table>\n",
       "<p>2000 rows × 6 columns</p>\n",
       "</div>"
      ],
      "text/plain": [
       "            0         1         2         3        4        5\n",
       "0    -1800000  815649.2 1135869.8 1914272.6 801869.0 364539.8\n",
       "1    -1800000 1068149.0 1104243.8  -30793.6 799584.2 -40000.0\n",
       "2    -1800000   76449.2 1366416.2  305513.0 799806.8 232823.6\n",
       "3    -1800000 1193964.2  842491.4 1115365.4 799722.8 -40000.0\n",
       "4    -1800000 1208739.8  978789.8 1909207.4 802511.6 553397.0\n",
       "...       ...       ...       ...       ...      ...      ...\n",
       "1995 -1800000  957756.2 1095969.8  444222.2 799189.4 216414.2\n",
       "1996 -1800000  869421.8 1056221.0  321313.4 802142.0 -40000.0\n",
       "1997 -1800000 1011163.4  887784.2 1980779.6 799160.0 -29193.4\n",
       "1998 -1800000 1014414.2 1002171.2 1557680.0 800420.0 481677.8\n",
       "1999 -1800000  879833.6 1397466.8  566685.8 801012.2 -40000.0\n",
       "\n",
       "[2000 rows x 6 columns]"
      ]
     },
     "execution_count": 6,
     "metadata": {},
     "output_type": "execute_result"
    }
   ],
   "source": [
    "#drop I_inv and NPV\n",
    "data_pv.drop([0, 'NPV'], axis=1, inplace=True) #(MUST RUN LINE ONCE)\n",
    "irr=pd.DataFrame((data_pv[[1, 2, 3, 4, 5]]*(1+rf)**data_pv.columns).values) #Present Values\n",
    "irr.columns=irr.columns+1 \n",
    "irr.insert(loc=0, column=0, value=I_inv)\n",
    "irr"
   ]
  },
  {
   "cell_type": "markdown",
   "metadata": {},
   "source": [
    "IRR "
   ]
  },
  {
   "cell_type": "markdown",
   "metadata": {},
   "source": [
    "*The print of the list compression is saved with an io method which is called as **a** on the next cell to obtain IRR*."
   ]
  },
  {
   "cell_type": "code",
   "execution_count": 7,
   "metadata": {},
   "outputs": [],
   "source": [
    "import io \n",
    "dates = [date(2020, 1, 1), date(2021, 1, 1), date(2022, 1, 1), date(2023, 1, 1), date(2024, 1, 1), date(2025, 1, 1)]\n",
    "# feed columnar data\n",
    "xirr(dates, irr.values[0])\n",
    "# feed tuples\n",
    "xirr(zip(dates, irr.values[0]))\n",
    "# feed DataFrame\n",
    "f = io.StringIO()\n",
    "[print(xirr(pd.DataFrame({\"dates\": dates, \"amounts\": irr.values[n]})),file=f) for n in range(len(irr))][0]"
   ]
  },
  {
   "cell_type": "code",
   "execution_count": 8,
   "metadata": {},
   "outputs": [],
   "source": [
    "pd.options.display.float_format = '{:,.4f}'.format\n",
    "# to get the value back\n",
    "a = f.getvalue()\n",
    "a= pd.DataFrame((a.split())).astype(float)*100\n"
   ]
  },
  {
   "cell_type": "markdown",
   "metadata": {},
   "source": [
    "*Finally, a dataframe with the initial investment in column 0 and the present value of period(s) k are computed. The Net Present Value represents the sum of PVs in period(s) k and the IRR represents the return of the future values of given data in cell 4°.*"
   ]
  },
  {
   "cell_type": "code",
   "execution_count": 9,
   "metadata": {},
   "outputs": [
    {
     "data": {
      "text/html": [
       "<div>\n",
       "<style scoped>\n",
       "    .dataframe tbody tr th:only-of-type {\n",
       "        vertical-align: middle;\n",
       "    }\n",
       "\n",
       "    .dataframe tbody tr th {\n",
       "        vertical-align: top;\n",
       "    }\n",
       "\n",
       "    .dataframe thead th {\n",
       "        text-align: right;\n",
       "    }\n",
       "</style>\n",
       "<table border=\"1\" class=\"dataframe\">\n",
       "  <thead>\n",
       "    <tr style=\"text-align: right;\">\n",
       "      <th></th>\n",
       "      <th>0</th>\n",
       "      <th>1</th>\n",
       "      <th>2</th>\n",
       "      <th>3</th>\n",
       "      <th>4</th>\n",
       "      <th>5</th>\n",
       "      <th>NPV</th>\n",
       "      <th>IRR</th>\n",
       "    </tr>\n",
       "  </thead>\n",
       "  <tbody>\n",
       "    <tr>\n",
       "      <th>0</th>\n",
       "      <td>-1800000</td>\n",
       "      <td>791892.4272</td>\n",
       "      <td>1070666.2268</td>\n",
       "      <td>1751830.6036</td>\n",
       "      <td>712450.2206</td>\n",
       "      <td>314455.2337</td>\n",
       "      <td>2841294.7120</td>\n",
       "      <td>50.7374</td>\n",
       "    </tr>\n",
       "    <tr>\n",
       "      <th>1</th>\n",
       "      <td>-1800000</td>\n",
       "      <td>1037037.8641</td>\n",
       "      <td>1040855.6886</td>\n",
       "      <td>-28180.5062</td>\n",
       "      <td>710420.2054</td>\n",
       "      <td>-34504.3514</td>\n",
       "      <td>925628.9005</td>\n",
       "      <td>27.1809</td>\n",
       "    </tr>\n",
       "    <tr>\n",
       "      <th>2</th>\n",
       "      <td>-1800000</td>\n",
       "      <td>74222.5243</td>\n",
       "      <td>1287978.3203</td>\n",
       "      <td>279587.6738</td>\n",
       "      <td>710617.9826</td>\n",
       "      <td>200835.6826</td>\n",
       "      <td>753242.1835</td>\n",
       "      <td>16.6773</td>\n",
       "    </tr>\n",
       "    <tr>\n",
       "      <th>3</th>\n",
       "      <td>-1800000</td>\n",
       "      <td>1159188.5437</td>\n",
       "      <td>794128.9471</td>\n",
       "      <td>1020717.3429</td>\n",
       "      <td>710543.3497</td>\n",
       "      <td>-34504.3514</td>\n",
       "      <td>1850073.8321</td>\n",
       "      <td>43.4534</td>\n",
       "    </tr>\n",
       "    <tr>\n",
       "      <th>4</th>\n",
       "      <td>-1800000</td>\n",
       "      <td>1173533.7864</td>\n",
       "      <td>922603.2614</td>\n",
       "      <td>1747195.2281</td>\n",
       "      <td>713021.1624</td>\n",
       "      <td>477365.1135</td>\n",
       "      <td>3233718.5517</td>\n",
       "      <td>59.0002</td>\n",
       "    </tr>\n",
       "    <tr>\n",
       "      <th>...</th>\n",
       "      <td>...</td>\n",
       "      <td>...</td>\n",
       "      <td>...</td>\n",
       "      <td>...</td>\n",
       "      <td>...</td>\n",
       "      <td>...</td>\n",
       "      <td>...</td>\n",
       "      <td>...</td>\n",
       "    </tr>\n",
       "    <tr>\n",
       "      <th>1995</th>\n",
       "      <td>-1800000</td>\n",
       "      <td>929860.3883</td>\n",
       "      <td>1033056.6500</td>\n",
       "      <td>406526.2412</td>\n",
       "      <td>710069.4307</td>\n",
       "      <td>186680.7900</td>\n",
       "      <td>1466193.5003</td>\n",
       "      <td>34.2235</td>\n",
       "    </tr>\n",
       "    <tr>\n",
       "      <th>1996</th>\n",
       "      <td>-1800000</td>\n",
       "      <td>844098.8350</td>\n",
       "      <td>995589.5937</td>\n",
       "      <td>294047.2780</td>\n",
       "      <td>712692.7776</td>\n",
       "      <td>-34504.3514</td>\n",
       "      <td>1011924.1330</td>\n",
       "      <td>26.7004</td>\n",
       "    </tr>\n",
       "    <tr>\n",
       "      <th>1997</th>\n",
       "      <td>-1800000</td>\n",
       "      <td>981712.0388</td>\n",
       "      <td>836821.7551</td>\n",
       "      <td>1812693.9300</td>\n",
       "      <td>710043.3092</td>\n",
       "      <td>-25182.4833</td>\n",
       "      <td>2516088.5498</td>\n",
       "      <td>50.2977</td>\n",
       "    </tr>\n",
       "    <tr>\n",
       "      <th>1998</th>\n",
       "      <td>-1800000</td>\n",
       "      <td>984868.1553</td>\n",
       "      <td>944642.4734</td>\n",
       "      <td>1425497.8599</td>\n",
       "      <td>711162.8029</td>\n",
       "      <td>415499.5015</td>\n",
       "      <td>2681670.7931</td>\n",
       "      <td>50.1033</td>\n",
       "    </tr>\n",
       "    <tr>\n",
       "      <th>1999</th>\n",
       "      <td>-1800000</td>\n",
       "      <td>854207.3786</td>\n",
       "      <td>1317246.4888</td>\n",
       "      <td>518597.7833</td>\n",
       "      <td>711688.9649</td>\n",
       "      <td>-34504.3514</td>\n",
       "      <td>1567236.2644</td>\n",
       "      <td>37.9344</td>\n",
       "    </tr>\n",
       "  </tbody>\n",
       "</table>\n",
       "<p>2000 rows × 8 columns</p>\n",
       "</div>"
      ],
      "text/plain": [
       "            0            1            2            3           4           5  \\\n",
       "0    -1800000  791892.4272 1070666.2268 1751830.6036 712450.2206 314455.2337   \n",
       "1    -1800000 1037037.8641 1040855.6886  -28180.5062 710420.2054 -34504.3514   \n",
       "2    -1800000   74222.5243 1287978.3203  279587.6738 710617.9826 200835.6826   \n",
       "3    -1800000 1159188.5437  794128.9471 1020717.3429 710543.3497 -34504.3514   \n",
       "4    -1800000 1173533.7864  922603.2614 1747195.2281 713021.1624 477365.1135   \n",
       "...       ...          ...          ...          ...         ...         ...   \n",
       "1995 -1800000  929860.3883 1033056.6500  406526.2412 710069.4307 186680.7900   \n",
       "1996 -1800000  844098.8350  995589.5937  294047.2780 712692.7776 -34504.3514   \n",
       "1997 -1800000  981712.0388  836821.7551 1812693.9300 710043.3092 -25182.4833   \n",
       "1998 -1800000  984868.1553  944642.4734 1425497.8599 711162.8029 415499.5015   \n",
       "1999 -1800000  854207.3786 1317246.4888  518597.7833 711688.9649 -34504.3514   \n",
       "\n",
       "              NPV     IRR  \n",
       "0    2841294.7120 50.7374  \n",
       "1     925628.9005 27.1809  \n",
       "2     753242.1835 16.6773  \n",
       "3    1850073.8321 43.4534  \n",
       "4    3233718.5517 59.0002  \n",
       "...           ...     ...  \n",
       "1995 1466193.5003 34.2235  \n",
       "1996 1011924.1330 26.7004  \n",
       "1997 2516088.5498 50.2977  \n",
       "1998 2681670.7931 50.1033  \n",
       "1999 1567236.2644 37.9344  \n",
       "\n",
       "[2000 rows x 8 columns]"
      ]
     },
     "execution_count": 9,
     "metadata": {},
     "output_type": "execute_result"
    }
   ],
   "source": [
    "pd.set_option('display.float_format', lambda x: '%.4f' % x)\n",
    "\n",
    "for i in range(len(data.columns)):                                              \n",
    "    data_pv=((data*Price)+(data*Cost)+Fixed)/(1+rf)**data.columns\n",
    "    data_pv.insert(loc=0, column=0, value=I_inv) #Initital investment in t=0\n",
    "    data_pv.insert(loc=len(data_pv.columns), column=len(data_pv.columns), value=data_pv.sum(axis='columns')) #NPV\n",
    "    \n",
    "data_pv=data_pv.set_axis([*data_pv.columns[:-1], 'NPV'], axis=1, inplace=False) #Name NPV col. \n",
    "data_pv['IRR'] = a\n",
    "data_pv"
   ]
  },
  {
   "cell_type": "code",
   "execution_count": 10,
   "metadata": {},
   "outputs": [
    {
     "data": {
      "image/png": "[encoded data removed]",
      "text/plain": [
       "<Figure size 1800x288 with 2 Axes>"
      ]
     },
     "metadata": {
      "needs_background": "light"
     },
     "output_type": "display_data"
    }
   ],
   "source": [
    "import matplotlib.pyplot as plt\n",
    "import seaborn as sns\n",
    "\n",
    "def BoxHist(data, size, color, title):\n",
    "    \"\"\"\n",
    "\n",
    "    BoxHist plots a boxplot and a histogram for a given cuantitative dataset.\n",
    "\n",
    "    *data : dataset.\n",
    "    *size : Size tupla (width, height).\n",
    "    *color : Plots color.\n",
    "    *title : Title.   \n",
    "    \"\"\"\n",
    "    fig, axes = plt.subplots(1, 2, figsize = size)\n",
    "    fig.suptitle(title)\n",
    "    plt.text(.5,.5,str('Mean = %')+str(round(data.mean(),2)), horizontalalignment='left', verticalalignment='top')\n",
    "    sns.boxplot(x = data, ax = axes[0], color = color, showmeans=True, meanprops={\"marker\":\"*\",\"markerfacecolor\":\"white\",\"markersize\":\"8.5\"})\n",
    "    sns.histplot(x = data, ax = axes[1], kde = True, color = color)\n",
    "\n",
    "BoxHist(a[0], (25,4), 'green', 'IRR Data Analysis')"
   ]
  },
  {
   "cell_type": "markdown",
   "metadata": {},
   "source": [
    "1. ¿What the probability that the IRR is over the Risk free rate?"
   ]
  },
  {
   "cell_type": "code",
   "execution_count": 11,
   "metadata": {},
   "outputs": [
    {
     "data": {
      "text/plain": [
       "98.831"
      ]
     },
     "execution_count": 11,
     "metadata": {},
     "output_type": "execute_result"
    }
   ],
   "source": [
    "from random import *\n",
    "s=pd.DataFrame(choices(a[0], k=100000))\n",
    "((s[s > 3.0 ].count()[0])/len(s))*100"
   ]
  },
  {
   "cell_type": "markdown",
   "metadata": {},
   "source": [
    "*The answer to this question, stochastic probabilities should be taken into consideration within given data. With 100,000 simulations from the IRR shown above, the chance of having a greater IRR than 3% is 98.83%.*"
   ]
  },
  {
   "cell_type": "markdown",
   "metadata": {},
   "source": [
    "2. What the probability that the IRR is over the 35%?"
   ]
  },
  {
   "cell_type": "code",
   "execution_count": 12,
   "metadata": {},
   "outputs": [
    {
     "data": {
      "text/plain": [
       "53.337"
      ]
     },
     "execution_count": 12,
     "metadata": {},
     "output_type": "execute_result"
    }
   ],
   "source": [
    "s2=pd.DataFrame(choices(a[0], k=100000))\n",
    "((s2[s2 > 35.0 ].count()[0])/len(s2))*100"
   ]
  },
  {
   "cell_type": "markdown",
   "metadata": {},
   "source": [
    "*The chance of having an IRR greater than 35% is 53.34%.*"
   ]
  },
  {
   "cell_type": "markdown",
   "metadata": {},
   "source": [
    "3. What the probability that the project value is over $2M?"
   ]
  },
  {
   "cell_type": "code",
   "execution_count": 13,
   "metadata": {},
   "outputs": [
    {
     "data": {
      "text/plain": [
       "40.293"
      ]
     },
     "execution_count": 13,
     "metadata": {},
     "output_type": "execute_result"
    }
   ],
   "source": [
    "s3=pd.DataFrame(choices(data_pv['NPV'], k=100000))\n",
    "((s3[s3 > 2000000.0 ].count()[0])/len(s3))*100"
   ]
  },
  {
   "cell_type": "markdown",
   "metadata": {},
   "source": [
    "*The chance of having an NPV greater than 2m is 40.29%.*"
   ]
  },
  {
   "cell_type": "markdown",
   "metadata": {},
   "source": [
    "4. What’s the probability that the IRR is between 10% and 20%?"
   ]
  },
  {
   "cell_type": "code",
   "execution_count": 14,
   "metadata": {},
   "outputs": [
    {
     "data": {
      "text/plain": [
       "11.93999999999999"
      ]
     },
     "execution_count": 14,
     "metadata": {},
     "output_type": "execute_result"
    }
   ],
   "source": [
    "s4=pd.DataFrame(choices(data_pv['IRR'], k=100000))\n",
    "p1=((s4[s4>10].count()[0])/len(s4))*100\n",
    "p2=((s4[s4<20].count()[0])/len(s4))*100\n",
    "p2-(100-p1) #or p1-(100-p2), which is the difference between (100-p2,p2)"
   ]
  },
  {
   "cell_type": "markdown",
   "metadata": {},
   "source": [
    "*The chance of having an IRR between 10% and 20% is 11.94%.*"
   ]
  }
 ],
 "metadata": {
  "kernelspec": {
   "display_name": "Python 3 (ipykernel)",
   "language": "python",
   "name": "python3"
  },
  "language_info": {
   "codemirror_mode": {
    "name": "ipython",
    "version": 3
   },
   "file_extension": ".py",
   "mimetype": "text/x-python",
   "name": "python",
   "nbconvert_exporter": "python",
   "pygments_lexer": "ipython3",
   "version": "3.8.13"
  },
  "toc": {
   "base_numbering": 1,
   "nav_menu": {},
   "number_sections": true,
   "sideBar": true,
   "skip_h1_title": false,
   "title_cell": "Table of Contents",
   "title_sidebar": "Contents",
   "toc_cell": false,
   "toc_position": {},
   "toc_section_display": true,
   "toc_window_display": false
  },
  "vscode": {
   "interpreter": {
    "hash": "ad2bdc8ecc057115af97d19610ffacc2b4e99fae6737bb82f5d7fb13d2f2c186"
   }
  }
 },
 "nbformat": 4,
 "nbformat_minor": 2
}
