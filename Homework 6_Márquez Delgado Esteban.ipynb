{
 "cells": [
  {
   "cell_type": "markdown",
   "metadata": {},
   "source": [
    "<p align=\"center\"> <img style=\" margin: 30px 15px 15px 15px;\" src=\"https://pngimage.net/wp-content/uploads/2018/06/logo-iteso-png-5.png\" width=\"350\" height=\"150\" /> \n",
    "    \n",
    "    \n",
    "## <H1 align=\"center\"> <font color='white'> Quantitative Finance </H1>\n",
    "\n",
    "### <H3 align=\"center\"> <font color='white'> Derivatives with Taylor Series and Differential processes solutions with Ito's Lemma </H1>\n",
    "\n",
    " <H5 align=\"center\"> <em> Professor: Zárate Carbajal José Mario <em>\n",
    "\n",
    " <strong> <H5 align=\"right\"> Student: Márquez Delgado Esteban <strong>\n",
    "\n",
    " *Registry*: if700637\n",
    "\n",
    " Date: September 22, 2022\n",
    "\n",
    " <center> <font color= #555555> <font size = 4> Sep 2022 </a> | <font color= #555555> <font size = 4> Repository: <a href='https://github.com/EstebanMqz/Quantitative-Finance/blob/main/Homework%206_Márquez%20Delgado%20Esteban.ipynb'>Link</a></font>"
   ]
  },
  {
   "cell_type": "markdown",
   "metadata": {},
   "source": [
    "<font color='lightblue'> <strong> \n",
    "### 1. **Using Talor Series solve in detail (a = 0, b = 0 and k = 2). Add all the steps (attached txt with Latex Code and Pdf)**"
   ]
  },
  {
   "cell_type": "markdown",
   "metadata": {},
   "source": [
    "1.  $ f(x, y) = e^{xy} +x^2y^2+5$\n"
   ]
  },
  {
   "cell_type": "markdown",
   "metadata": {},
   "source": [
    "<H5 align=\"left\"> <font color='gray'> <strong> \n",
    "Taylor series with 2 variables:"
   ]
  },
  {
   "cell_type": "markdown",
   "metadata": {},
   "source": [
    "When using Taylor series for an equation with 2 variables the next formula must be used:\n",
    "\n",
    "$$f(x,y) = f(a,b) + \\frac{\\partial f(a,b)}{\\partial x}(x-a) + \\frac{\\partial f(a,b)}{\\partial y}(y-b) + \\frac{1}{2!}\\biggl[\\frac{\\partial^2 f(a,b)}{\\partial x^2}(x-a)^2 + \\frac{\\partial^2 f(a,b)}{\\partial y^2}(y-b)^2 + \\frac{\\partial^2 f(a,b)}{\\partial x \\partial y}(x-a)(y-b) + \\frac{\\partial^2 f(a,b)}{\\partial y \\partial x}(y-b)(x-a)\\biggr]$$"
   ]
  },
  {
   "cell_type": "markdown",
   "metadata": {},
   "source": [
    "To simplify this could also be expressed as:\n",
    "\n",
    "$$f(x,y) = f(a,b) + f_{x}(x-a) + f_{y}(y-b) + \\frac{1}{2!}\\biggl[f_{xx}(x-a)^2 + f_{yy}(y-b)^2 + f_{xy}(x-a)(y-b) + f_{yx}(y-b)(x-a)\\biggr]$$\n"
   ]
  },
  {
   "cell_type": "markdown",
   "metadata": {},
   "source": [
    "Now that the following partial derivatives must be determined.\n",
    "\n",
    "$f(a=0,b=0) = e^{0\\cdot 0} + 0^20^2 + 5 = 6$\n",
    "\n",
    "$f_{x} = ye^{xy}+2xy^2$\n",
    "\n",
    "$f_{y} = xe^{xy}+2x^2y$\n",
    "\n",
    "$f_{xx} = y^2e^{xy}+2y^2$\n",
    "\n",
    "$f_{yy} = x^2e^{xy}+2x^2$\n",
    "\n",
    "$f_{xy} = xye^{xy}+4xy$\n",
    "\n",
    "$f_{yx} = e^{xy}(1+xy)+4xy$\n",
    "\n"
   ]
  },
  {
   "cell_type": "markdown",
   "metadata": {},
   "source": [
    "Note that to calculate $f_{yx}$ the chain rule was used on the first term of $f_{y}$=($xe^{xy}$):\n",
    "\n",
    "$uv = vdu + udv$\n",
    "\n",
    "$u=x$\n",
    "\n",
    "$v=e^{xy}$\n",
    "\n",
    "$uv=e^{xy}+xye^{xy} = e^{xy}(1+xy)$"
   ]
  },
  {
   "cell_type": "markdown",
   "metadata": {},
   "source": [
    "Substituting the partial derivatives in Taylor Series equation the following is left:\n",
    "\n",
    "\n",
    "$$f(x,y) = 6 + xye^{xy}+2x^2y^2 + xye^{xy}+2x^2y^2 + \\frac{1}{2}\\biggl[(x^2y^2e^{xy}+2x^2y^2) + (x^2y^2e^{xy}+2x^2y^2) + (x^2y^2e^{xy} + 4x^2y^2) + (xye^{xy}(1+xy)+ 4x^2y^2) \\biggr]\n",
    "\n"
   ]
  },
  {
   "cell_type": "markdown",
   "metadata": {},
   "source": [
    "Now this expression can be reduced to:\n",
    "\n",
    "$$f(x,y) =6+xy(e^{xy}+2xy+e^{xy}+2xy+\\frac{xye^{xy}}{2}+xy+\\frac{xye^{xy}}{2}+xy+\\frac{xye^{xy}}{2}+2xy+\\frac{e^{xy}}{2}+\\frac{xye^{xy}}{2}+2xy)$$"
   ]
  },
  {
   "cell_type": "markdown",
   "metadata": {},
   "source": [
    "Reducing in similar terms we have the following as result:\n",
    "$$f(x,y) =6+xy\\biggl(\\frac{5e^{xy}}{2}+10xy+2xye^{xy}\\biggr)$$"
   ]
  },
  {
   "cell_type": "markdown",
   "metadata": {},
   "source": [
    "<font color='lightblue'> <strong> \n",
    "### 2. **Let’s consider certain diffusion process $dX_{t}$ = $X_{t} \\sigma dW_{t}$** \n",
    "\n",
    "Find a differential form of a function **$f(X_{(t+\\Delta t)} , t+\\Delta t)$ = $ df_{t+\\Delta t} = df_t$**"
   ]
  },
  {
   "cell_type": "markdown",
   "metadata": {},
   "source": [
    "$$\\frac{\\delta f_{t}}{\\delta t}\\Delta t+\\frac{\\delta f_{t}}{\\delta X_{t}}\\Delta X_{t}+\\frac{1}{2}\\Big[\\frac{\\delta^2f_{t}}{\\delta t^2}\\Delta t^2+\\frac{\\delta^2f_{t}}{\\delta X_{t}^2}\\Delta X_{t}^2+\\frac{\\delta^2f_{t}}{\\delta t\\delta X_{t}}\\Delta t\\Delta X_{t} + \\frac{\\delta^2f_{t}}{\\delta X_{t}\\delta t}\\Delta X_{t}\\Delta t\\Big]$$\n",
    "\n",
    "Then we can substitute $\\Delta = d$ :\n",
    "\n",
    "$$df_{t}=\\frac{\\delta f_{t}}{\\delta t}dt+\\frac{\\delta f_{t}}{\\delta X_{t}}dX_{t}+\\frac{1}{2}\\Big[\\frac{\\delta^2f_{t}}{\\delta t^2}dt^2+\\frac{\\delta^2f_{t}}{\\delta X_{t}^2}dX_{t}^2+\\frac{\\delta^2f_{t}}{\\delta t\\delta X_{t}}dtdX_{t} + \\frac{\\delta^2f_{t}}{\\delta X_{t}\\delta t}dX_{t}dt\\Big]$$\n",
    "\n",
    "\n",
    "Substituting $dX_{t} = X_{t} \\sigma dW_{t} :$\n",
    "\n",
    "$$df_{t}=\\frac{\\delta f_{t}}{\\delta t}dt+\\frac{\\delta f_{t}}{\\delta X_{t}}dX_{t}+\\frac{1}{2}\\Big[\\frac{\\delta^2f_{t}}{\\delta t^2}dt^2  + \\frac{\\delta^2f_{t}}{\\delta X_{t}^2}X_{t}^2 \\sigma^2 dW_{t}^2 +\\frac{\\delta^2f_{t}}{\\delta t\\delta X_{t}}dtX_{t} \\sigma dW_{t} + \\frac{\\delta^2f_{t}}{\\delta X_{t}\\delta t}X_{t} \\sigma dW_{t}dt\\Big]$$\n",
    "\n",
    "And if we apply Ito's Lemma we are left with the following:\n",
    "\n",
    "\n",
    "\n",
    "\n",
    "\n",
    "\n",
    "\n"
   ]
  },
  {
   "cell_type": "markdown",
   "metadata": {},
   "source": [
    "$$df_{t}=\\frac{\\delta f_{t}}{\\delta t}dt+\\frac{\\delta f_{t}}{\\delta X_{t}}dX_{t}+\\frac{1}{2}\\Big[\\frac{\\delta^2f_{t}}{\\delta t^2}0  + \\frac{\\delta^2f_{t}}{\\delta X_{t}^2}X_{t}^2 \\sigma^2 dt +\\frac{\\delta^2f_{t}}{\\delta t\\delta X_{t}}X_{t} \\sigma*0 + \\frac{\\delta^2f_{t}}{\\delta X_{t}\\delta t}X_{t} \\sigma* 0\\Big]$$"
   ]
  },
  {
   "cell_type": "markdown",
   "metadata": {},
   "source": [
    "If we factorize and eliminate factors we have the following as result:\n",
    "\n",
    "$$df_{t}=\\frac{\\delta f_{t}}{\\delta t}dt+\\frac{\\delta f_{t}}{\\delta X_{t}}dX_{t}+\\frac{1}{2}\\Big[\\frac{\\delta^2f_{t}}{\\delta X_{t}^2}X_{t}^2 \\sigma^2 dt\\Big]$$\n",
    "\n",
    "\n",
    "$$df_{t}=\\Big[\\frac{\\delta f_{t}}{\\delta t}+\\frac{1}{2} \\Big(\\frac{\\delta^2f_{t}}{\\delta X_{t}^2}X_{t}^2 \\sigma^2 \\Big)\\Big]dt +\\frac{\\delta f_{t}}{\\delta X_{t}}dX_{t}$$"
   ]
  },
  {
   "cell_type": "markdown",
   "metadata": {},
   "source": [
    "<font color='lightblue'> <strong> \n",
    "### 3. **Let’s consider certain diffusion process $dX_{t}$ = $\\mu St^3 + \\sigma^2dWt + \\frac{1}{2}dt$** \n",
    "\n",
    "Find a differential form of a function **$f(X_{(t+\\Delta t)} , t+\\Delta t)$ = $ df_{t+\\Delta t} = df_t$**"
   ]
  },
  {
   "cell_type": "markdown",
   "metadata": {},
   "source": [
    "Note that this problem is the same as the one done before but $X_{t}$ is a different equation, this lets us know that we are going to need $dX_{t}^2$, therefore we proceed to calculate it."
   ]
  },
  {
   "cell_type": "markdown",
   "metadata": {},
   "source": [
    "$$(dX_{t})^2=\\Big[\\mu S_{t}^3+\\sigma^2dW_{t}+\\frac{1}{2}dt\\Big]^2$$\n",
    "\n",
    "Calculating the square of both sides and applying Ito's lemma we are left with the following:\n",
    "\n",
    "$$dX_{t}^2=\\mu^2S_{t}^6+\\sigma^4dt+(\\frac{1}{2})^2+2[\\mu S_{t}^3\\sigma^2dW_{t}]+2[\\mu S_{t}^3\\frac{1}{2}dt]+2[\\sigma^2dW_{t}\\frac{1}{2}dt]$$\n",
    "\n",
    "$$(dX_{t})^2=\\Big[\\sigma^4 +2\\mu S_{t}^3+2\\sigma^2dW_{t}\\Big]dt+\\mu^2S_{t}^6+2\\mu S_{t}^3\\sigma^2dW_{t}$$\n",
    "\n",
    "$$(dX_{t})^2=\\Big[\\sigma^4 +2\\mu S_{t}^3\\Big]dt+\\mu^2S_{t}^6+2\\mu S_{t}^3\\sigma^2dW_{t}$$\n",
    "\n",
    "$$(dX_{t})^2=[\\sigma^4 +2\\mu S_{t}^3]dt+\\mu^2X_{t}^6+2\\mu S_{t}^3\\sigma^2dW_{t}$$"
   ]
  },
  {
   "cell_type": "markdown",
   "metadata": {},
   "source": [
    "$$\n",
    "d X_t^2=\\left(\\mu S_t^3\\right)^2+2\\left(\\mu S_t^3\\right)\\left(\\sigma^2 d W_t\\right)+2\\left(\\mu S_t^3\\right)\\left(\\frac{1}{2} d_t\\right)+\\left(\\sigma^2\\right)^2 d_t\n",
    "$$\n",
    "\n",
    "$$\n",
    "\\left(d_t\\right)\\left(d X_t\\right)=\\left(d_t\\right)\\left(\\mu S_t^3+\\sigma^2 d W_t+\\frac{1}{2} d_t\\right)=\\left(\\mu S_t^3 d_t+\\sigma^2 d W_t d_t+\\frac{1}{2} d_t d_t\\right)=\\mu S_t^3 d_t\n",
    "$$\n",
    "\n",
    "$$\n",
    "\\begin{aligned}\n",
    "&d f_t=\\frac{\\partial f_t}{\\partial t} d t+\\frac{\\partial f_t}{\\partial X_t} d X_t+\\frac{1}{2}\\left[\\frac{\\partial^2 f_t}{\\partial t^2} d t^2+\\frac{\\partial^2 f_t}{\\partial X_t^2} d X_t^2+\\frac{\\partial^2 f_t}{\\partial t \\partial X_t} d t d X_t+\\frac{\\partial^2 f_t}{\\partial X_t \\partial t} d X_t d t\\right] \\\\\n",
    "&d f_t=\\frac{\\partial f_t}{\\partial t} d t+\\frac{\\partial f_t}{\\partial X_t} d X_t+\\frac{1}{2}\\left[0+\\frac{\\partial^2 f_t}{\\partial X_t^2}\\left[\\left(\\mu S_t^3\\right)^2+2\\left(\\mu S_t^3\\right)\\left(\\sigma^2 d W_t\\right)+2\\left(\\mu S_t^3\\right)\\left(\\frac{1}{2} d_t\\right)+\\right.\\right. \\\\\n",
    "&\\left.\\left.\\left(\\sigma^2\\right)^2 d_t\\right]+\\frac{\\partial^2 f_t}{\\partial t \\partial X_t}\\left[\\mu S_t^3 d_t\\right]+\\frac{\\partial^2 f_t}{\\partial X_t \\partial t}\\left[\\mu S_t^3 d_t\\right]\\right]\n",
    "\\end{aligned}\n",
    "$$\n",
    "\n",
    "$$\n",
    "d f_t=\\frac{\\partial f_t}{\\partial t} d t+\\frac{\\partial f_t}{\\partial X_t} d X_t+\\frac{1}{2} \\frac{\\partial^2 f_t}{\\partial X_t^2}\\left(\\mu S_t^3\\right)^2+\\frac{1}{2} \\frac{\\partial^2 f_t}{\\partial X_t^2}\\left(\\mu S_t^3\\right)\\left(\\sigma^2 d W_t\\right)+\\frac{1}{2} \\frac{\\partial^2 f_t}{\\partial X_t^2}\\left(\\mu S_t^3\\right)\\left(\\frac{1}{2} d_t\\right)+ \\\\\n",
    "\\frac{1}{2} \\frac{\\partial^2 f_t}{\\partial X_t^2} \\frac{1}{2}\\left(\\sigma^2\\right)^2 d_t+\\frac{1}{2} \\frac{\\partial^2 f_t}{\\partial t \\partial X_t}\\left[\\mu S_t^3 d_t\\right]+\\frac{1}{2} \\frac{\\partial^2 f_t}{\\partial X_t \\partial t}\\left[\\mu S_t^3 d_t\\right] \\\\\n",
    "d f_t=\\frac{1}{2}\\left[2 \\frac{\\partial f_t}{\\partial t}+\\frac{1}{2} \\frac{\\partial^2 f_t}{\\partial X_t^2}\\left(\\mu S_t^3\\right)+\\frac{1}{2} \\frac{\\partial^2 f_t}{\\partial X_t^2}\\left(\\sigma^2\\right)^2+\\frac{\\partial^2 f_t}{\\partial t \\partial X_t}\\left[\\mu S_t^3\\right]+\\frac{\\partial^2 f_t}{\\partial X_t \\partial t}\\left[\\mu S_t^3\\right]\\right] d t+ \\\\\n",
    "\\frac{\\partial f_t}{\\partial X_t} d X_t+\\frac{1}{2} \\frac{\\partial^2 f_t}{\\partial X_t^2}\\left(\\mu S_t^3\\right)^2+\\frac{1}{2} \\frac{\\partial^2 f_t}{\\partial X_t^2}\\left(\\mu S_t^3\\right)\\left(\\sigma^2 d W_t\\right)\n",
    "$$"
   ]
  }
 ],
 "metadata": {
  "kernelspec": {
   "display_name": "Python 3 (ipykernel)",
   "language": "python",
   "name": "python3"
  },
  "language_info": {
   "codemirror_mode": {
    "name": "ipython",
    "version": 3
   },
   "file_extension": ".py",
   "mimetype": "text/x-python",
   "name": "python",
   "nbconvert_exporter": "python",
   "pygments_lexer": "ipython3",
   "version": "3.8.13"
  },
  "toc": {
   "base_numbering": 1,
   "nav_menu": {},
   "number_sections": true,
   "sideBar": true,
   "skip_h1_title": false,
   "title_cell": "Table of Contents",
   "title_sidebar": "Contents",
   "toc_cell": false,
   "toc_position": {},
   "toc_section_display": true,
   "toc_window_display": false
  }
 },
 "nbformat": 4,
 "nbformat_minor": 2
}
